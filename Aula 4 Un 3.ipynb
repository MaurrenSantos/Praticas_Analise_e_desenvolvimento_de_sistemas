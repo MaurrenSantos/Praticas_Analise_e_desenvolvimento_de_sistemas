{
 "cells": [
  {
   "cell_type": "code",
   "execution_count": 7,
   "id": "02514f48",
   "metadata": {},
   "outputs": [
    {
     "name": "stdout",
     "output_type": "stream",
     "text": [
      "[3, 86, 2, 26, 96, 6, 84, 40, 43, 76, 32, 28, 89, 17, 77, 19, 5, 65, 29, 12]\n"
     ]
    }
   ],
   "source": [
    "import matplotlib.pyplot as plt\n",
    "import random\n",
    "\n",
    "dados1 = random.sample(range(100), k=20)\n",
    "dados2 = random.sample(range(100), k=20)\n",
    "print(dados1)\n",
    "plt.bar(dados1, dados2)\n",
    "plt.show()"
   ]
  },
  {
   "cell_type": "code",
   "execution_count": 4,
   "id": "5b39fad4",
   "metadata": {},
   "outputs": [],
   "source": [
    "import matplotlib.pyplot as plt\n",
    "import pandas as pd\n",
    "dados = {\n",
    "    'Produto': [\"A\", \"B\", \"C\"],\n",
    "    'qtde_vendida': [33, 50, 45]\n",
    "}\n",
    "df = pd.DataFrame(dados)\n",
    "df.plot(x='Produto', y='qtde_vendida', kind='bar')\n",
    "plt.show()\n"
   ]
  },
  {
   "cell_type": "code",
   "execution_count": 5,
   "id": "d454c29c",
   "metadata": {},
   "outputs": [],
   "source": [
    "import matplotlib.pyplot as plt\n",
    "import pandas as pd\n",
    "dados = {\n",
    "    'Produto': [\"A\", \"B\", \"C\"],\n",
    "    'qtde_vendida': [33, 50, 45]\n",
    "}\n",
    "df = pd.DataFrame(dados)\n",
    "df.plot(x='Produto', y='qtde_vendida', kind='pie')\n",
    "plt.show()"
   ]
  },
  {
   "cell_type": "code",
   "execution_count": 6,
   "id": "201591ed",
   "metadata": {},
   "outputs": [],
   "source": [
    "import matplotlib.pyplot as plt\n",
    "import pandas as pd\n",
    "dados = {\n",
    "    'Produto': [\"A\", \"B\", \"C\"],\n",
    "    'qtde_vendida': [33, 50, 45]\n",
    "}\n",
    "df = pd.DataFrame(dados)\n",
    "df.plot(x='Produto', y='qtde_vendida', kind='line')\n",
    "plt.show()"
   ]
  },
  {
   "cell_type": "markdown",
   "id": "155424c2",
   "metadata": {},
   "source": []
  },
  {
   "cell_type": "code",
   "execution_count": null,
   "id": "3b0826b4",
   "metadata": {},
   "outputs": [],
   "source": []
  }
 ],
 "metadata": {
  "kernelspec": {
   "display_name": "Python 3",
   "language": "python",
   "name": "python3"
  },
  "language_info": {
   "codemirror_mode": {
    "name": "ipython",
    "version": 3
   },
   "file_extension": ".py",
   "mimetype": "text/x-python",
   "name": "python",
   "nbconvert_exporter": "python",
   "pygments_lexer": "ipython3",
   "version": "3.11.9"
  }
 },
 "nbformat": 4,
 "nbformat_minor": 5
}

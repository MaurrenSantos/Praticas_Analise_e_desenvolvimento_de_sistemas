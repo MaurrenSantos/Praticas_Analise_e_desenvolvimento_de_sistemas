{
 "cells": [
  {
   "cell_type": "code",
   "execution_count": 1,
   "id": "3de19055",
   "metadata": {},
   "outputs": [
    {
     "name": "stdout",
     "output_type": "stream",
     "text": [
      "        nome  quantidade de itens comprados tipo de item  receita total\n",
      "0  Produto A                              3   Eletrônico            120\n",
      "1  Produto B                              1    Vestuário             80\n",
      "2  Produto C                              4  Alimentício             60\n",
      "3  Produto A                              3   Eletrônico            120\n",
      "4  Produto E                              2  Alimentício             90\n"
     ]
    }
   ],
   "source": [
    "#Aplicando aula\n",
    "\n",
    "import pandas as pd\n",
    "# Criando um DataFrame com 5 linhas de dados\n",
    "data = {\n",
    "    'nome': [ 'Produto A', 'Produto B', 'Produto C', 'Produto A', 'Produto E'],\n",
    "    'quantidade de itens comprados': [3, 1, 4, 3, 2],\n",
    "    'tipo de item': ['Eletrônico', 'Vestuário', 'Alimentício', 'Eletrônico', 'Alimentício'],\n",
    "    'receita total': [120, 80, 60, 120, 90]\n",
    "}\n",
    "df = pd.DataFrame(data)\n",
    "\n",
    "print(df)"
   ]
  },
  {
   "cell_type": "code",
   "execution_count": 2,
   "id": "e1f1e6d2",
   "metadata": {},
   "outputs": [
    {
     "name": "stdout",
     "output_type": "stream",
     "text": [
      "        nome  quantidade de itens comprados tipo de item  receita total\n",
      "1  Produto B                              1    Vestuário             80\n",
      "2  Produto C                              4  Alimentício             60\n",
      "3  Produto A                              3   Eletrônico            120\n",
      "4  Produto E                              2  Alimentício             90\n"
     ]
    }
   ],
   "source": [
    "#Retirando duplicação\n",
    "df.drop_duplicates(keep='last', inplace=True)\n",
    "print(df)"
   ]
  },
  {
   "cell_type": "code",
   "execution_count": 3,
   "id": "2a7b326c",
   "metadata": {},
   "outputs": [
    {
     "name": "stdout",
     "output_type": "stream",
     "text": [
      "Itens acima de 50 reais: \n",
      "        nome  quantidade de itens comprados tipo de item  receita total  \\\n",
      "1  Produto B                              1    Vestuário             80   \n",
      "\n",
      "   preço do item  \n",
      "1           80.0  \n"
     ]
    }
   ],
   "source": [
    "#Calculando a coluna 'preço do item'\n",
    "df['preço do item'] = df['receita total'] / df['quantidade de itens comprados']\n",
    "\n",
    "#Selecionando preço do item acima de 50 reais\n",
    "itens_acima_de_50 = df[df['preço do item'] > 50]\n",
    "print(\"Itens acima de 50 reais: \")\n",
    "print(itens_acima_de_50)"
   ]
  }
 ],
 "metadata": {
  "kernelspec": {
   "display_name": "Python 3",
   "language": "python",
   "name": "python3"
  },
  "language_info": {
   "codemirror_mode": {
    "name": "ipython",
    "version": 3
   },
   "file_extension": ".py",
   "mimetype": "text/x-python",
   "name": "python",
   "nbconvert_exporter": "python",
   "pygments_lexer": "ipython3",
   "version": "3.11.9"
  }
 },
 "nbformat": 4,
 "nbformat_minor": 5
}

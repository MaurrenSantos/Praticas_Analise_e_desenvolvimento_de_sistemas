{
 "cells": [
  {
   "cell_type": "code",
   "execution_count": 3,
   "id": "a1a7cb12",
   "metadata": {},
   "outputs": [
    {
     "name": "stdout",
     "output_type": "stream",
     "text": [
      "     total_bill   tip     sex smoker   day    time  size\n",
      "0         16.99  1.01  Female     No   Sun  Dinner     2\n",
      "1         10.34  1.66    Male     No   Sun  Dinner     3\n",
      "2         21.01  3.50    Male     No   Sun  Dinner     3\n",
      "3         23.68  3.31    Male     No   Sun  Dinner     2\n",
      "4         24.59  3.61  Female     No   Sun  Dinner     4\n",
      "..          ...   ...     ...    ...   ...     ...   ...\n",
      "239       29.03  5.92    Male     No   Sat  Dinner     3\n",
      "240       27.18  2.00  Female    Yes   Sat  Dinner     2\n",
      "241       22.67  2.00    Male    Yes   Sat  Dinner     2\n",
      "242       17.82  1.75    Male     No   Sat  Dinner     2\n",
      "243       18.78  3.00  Female     No  Thur  Dinner     2\n",
      "\n",
      "[244 rows x 7 columns]\n"
     ]
    }
   ],
   "source": [
    "import seaborn as sns\n",
    "import matplotlib.pyplot as plt\n",
    "\n",
    "sns.set(style=\"whitegrid\") #opções: darkgrid; whitegrid; dark; white; ticks.\n",
    "\n",
    "df_tips = sns.load_dataset(\"tips\")\n",
    "\n",
    "print(df_tips)\n",
    "\n",
    "fig, ax = plt.subplots(1, 3, figsize=(15, 5))\n",
    "\n",
    "sns.barplot(data=df_tips, x='sex', y='total_bill', ax=ax[0])\n",
    "#média por sexo\n",
    "\n",
    "sns.barplot(data=df_tips, x='sex', y='total_bill', ax=ax[1], estimator=sum)\n",
    "#O motivo para optar pelo \"barplot()\" muitas vezes se baseia nos parâmetros adicionais e na flexibilidade que ele oferece\n",
    "#Vamos dar destaque ap parâmetro \"estimator\", que por padrão, calcula a média\n",
    "\n",
    "sns.barplot(data=df_tips, x='sex', y='total_bill', ax=ax[2], estimator=len)\n",
    "#A função \"barplot()\" do Seaborn apresenta uma variedade e opções estatísticas,\n",
    "#permitindo que os cientistas de dados escolham a métrica que melhor se ajusta aos seus objetivos.\n",
    "#Por exemplo, você pode calcular a soma, a contagem ou até mesmo outras métricas personalizadas.\n",
    "#Isso é particularmente útil quando você deseja exibir informações diferentes nas barras,\n",
    "#como a quantidade(len) ou a soma(sum) dos valores, em vez da média\n",
    "plt.show()"
   ]
  }
 ],
 "metadata": {
  "kernelspec": {
   "display_name": "Python 3",
   "language": "python",
   "name": "python3"
  },
  "language_info": {
   "codemirror_mode": {
    "name": "ipython",
    "version": 3
   },
   "file_extension": ".py",
   "mimetype": "text/x-python",
   "name": "python",
   "nbconvert_exporter": "python",
   "pygments_lexer": "ipython3",
   "version": "3.11.9"
  }
 },
 "nbformat": 4,
 "nbformat_minor": 5
}
